{
  "nbformat": 4,
  "nbformat_minor": 0,
  "metadata": {
    "colab": {
      "provenance": [],
      "authorship_tag": "ABX9TyNGw5Z15GSevJC2PGMv1aGx",
      "include_colab_link": true
    },
    "kernelspec": {
      "name": "python3",
      "display_name": "Python 3"
    },
    "language_info": {
      "name": "python"
    }
  },
  "cells": [
    {
      "cell_type": "markdown",
      "metadata": {
        "id": "view-in-github",
        "colab_type": "text"
      },
      "source": [
        "<a href=\"https://colab.research.google.com/github/Xomemo7/AI_Models/blob/main/irsi_classification.ipynb\" target=\"_parent\"><img src=\"https://colab.research.google.com/assets/colab-badge.svg\" alt=\"Open In Colab\"/></a>"
      ]
    },
    {
      "cell_type": "code",
      "source": [
        "from sklearn.datasets import load_iris\n",
        "from sklearn.model_selection import train_test_split\n",
        "from sklearn.ensemble import RandomForestClassifier\n",
        "from sklearn.metrics import classification_report, accuracy_score\n",
        "import pandas as pd\n",
        "\n",
        "iris = load_iris()\n",
        "X = iris.data\n",
        "y = iris.target\n",
        "feature_names = iris.feature_names\n",
        "target_names = iris.target_names\n",
        "\n",
        "\n",
        "X_train, X_test, y_train, y_test = train_test_split(\n",
        "    X, y, test_size=0.3, stratify=y\n",
        ")\n",
        "\n",
        "\n",
        "clf = RandomForestClassifier(n_estimators=250)\n",
        "clf.fit(X_train, y_train)\n",
        "\n",
        "\n",
        "y_pred = clf.predict(X_test)\n",
        "\n",
        "\n",
        "print(\"Accuracy:\", accuracy_score(y_test, y_pred))\n",
        "print(\"\\nClassification Report:\\n\", classification_report(y_test, y_pred, target_names=target_names))\n"
      ],
      "metadata": {
        "id": "c8DiWfbhUDlS",
        "colab": {
          "base_uri": "https://localhost:8080/"
        },
        "outputId": "8180103a-2ed0-4733-fcb1-0ec45b33d7ff"
      },
      "execution_count": 53,
      "outputs": [
        {
          "output_type": "stream",
          "name": "stdout",
          "text": [
            "Accuracy: 1.0\n",
            "\n",
            "Classification Report:\n",
            "               precision    recall  f1-score   support\n",
            "\n",
            "      setosa       1.00      1.00      1.00        15\n",
            "  versicolor       1.00      1.00      1.00        15\n",
            "   virginica       1.00      1.00      1.00        15\n",
            "\n",
            "    accuracy                           1.00        45\n",
            "   macro avg       1.00      1.00      1.00        45\n",
            "weighted avg       1.00      1.00      1.00        45\n",
            "\n"
          ]
        }
      ]
    },
    {
      "cell_type": "code",
      "source": [
        "y_pred"
      ],
      "metadata": {
        "colab": {
          "base_uri": "https://localhost:8080/"
        },
        "id": "5wUGjyFAg1wl",
        "outputId": "14475670-ec41-4b77-c84c-20a0169f976b"
      },
      "execution_count": 54,
      "outputs": [
        {
          "output_type": "execute_result",
          "data": {
            "text/plain": [
              "array([1, 2, 0, 1, 0, 1, 1, 2, 1, 1, 0, 1, 2, 0, 0, 0, 0, 1, 0, 2, 1, 0,\n",
              "       2, 1, 0, 2, 1, 2, 2, 2, 2, 0, 2, 0, 0, 0, 1, 1, 2, 2, 2, 1, 1, 0,\n",
              "       2])"
            ]
          },
          "metadata": {},
          "execution_count": 54
        }
      ]
    },
    {
      "cell_type": "code",
      "source": [
        "y_test"
      ],
      "metadata": {
        "colab": {
          "base_uri": "https://localhost:8080/"
        },
        "id": "NFVBfCLAlml0",
        "outputId": "c887ecf6-93f9-4616-c066-d0b796280085"
      },
      "execution_count": 55,
      "outputs": [
        {
          "output_type": "execute_result",
          "data": {
            "text/plain": [
              "array([1, 2, 0, 1, 0, 1, 1, 2, 1, 1, 0, 1, 2, 0, 0, 0, 0, 1, 0, 2, 1, 0,\n",
              "       2, 1, 0, 2, 1, 2, 2, 2, 2, 0, 2, 0, 0, 0, 1, 1, 2, 2, 2, 1, 1, 0,\n",
              "       2])"
            ]
          },
          "metadata": {},
          "execution_count": 55
        }
      ]
    },
    {
      "cell_type": "code",
      "source": [
        "import joblib\n",
        "\n",
        "\n",
        "joblib.dump(clf, 'random_forest_model.pkl')\n",
        "\n",
        "\n",
        "loaded_model = joblib.load('random_forest_model.pkl')\n",
        "\n",
        "\n",
        "y_pred_loaded = loaded_model.predict(X_test)\n"
      ],
      "metadata": {
        "id": "Y04NqxCYpwV1"
      },
      "execution_count": 56,
      "outputs": []
    },
    {
      "cell_type": "code",
      "source": [
        "y_pred_loaded"
      ],
      "metadata": {
        "colab": {
          "base_uri": "https://localhost:8080/"
        },
        "id": "AYrd2o9iqaQf",
        "outputId": "0d6109c8-ef9b-4dd8-c5c8-ddd2b305ca07"
      },
      "execution_count": 57,
      "outputs": [
        {
          "output_type": "execute_result",
          "data": {
            "text/plain": [
              "array([1, 2, 0, 1, 0, 1, 1, 2, 1, 1, 0, 1, 2, 0, 0, 0, 0, 1, 0, 2, 1, 0,\n",
              "       2, 1, 0, 2, 1, 2, 2, 2, 2, 0, 2, 0, 0, 0, 1, 1, 2, 2, 2, 1, 1, 0,\n",
              "       2])"
            ]
          },
          "metadata": {},
          "execution_count": 57
        }
      ]
    },
    {
      "cell_type": "code",
      "source": [],
      "metadata": {
        "id": "mw80LcgmqfbV"
      },
      "execution_count": null,
      "outputs": []
    }
  ]
}